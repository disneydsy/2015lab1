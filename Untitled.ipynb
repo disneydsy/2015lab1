{
 "cells": [
  {
   "cell_type": "code",
   "execution_count": 1,
   "metadata": {
    "collapsed": false
   },
   "outputs": [
    {
     "ename": "SyntaxError",
     "evalue": "invalid syntax (<ipython-input-1-86029c5225d0>, line 1)",
     "output_type": "error",
     "traceback": [
      "\u001b[1;36m  File \u001b[1;32m\"<ipython-input-1-86029c5225d0>\"\u001b[1;36m, line \u001b[1;32m1\u001b[0m\n\u001b[1;33m    pip install BeautifulSoup seaborn pyquery\u001b[0m\n\u001b[1;37m              ^\u001b[0m\n\u001b[1;31mSyntaxError\u001b[0m\u001b[1;31m:\u001b[0m invalid syntax\n"
     ]
    }
   ],
   "source": [
    "!pip install BeautifulSoup seaborn pyquerypip install BeautifulSoup seaborn pyquery\n"
   ]
  },
  {
   "cell_type": "code",
   "execution_count": 2,
   "metadata": {
    "collapsed": false
   },
   "outputs": [
    {
     "name": "stdout",
     "output_type": "stream",
     "text": [
      "Collecting BeautifulSoup\n",
      "  Downloading BeautifulSoup-3.2.1.tar.gz\n",
      "Collecting seaborn\n",
      "  Downloading seaborn-0.6.0.tar.gz (145kB)\n",
      "Collecting pyquery\n",
      "  Downloading pyquery-1.2.9.zip (45kB)\n",
      "Requirement already satisfied (use --upgrade to upgrade): lxml>=2.1 in c:\\anaconda2\\lib\\site-packages (from pyquery)\n",
      "Collecting cssselect (from pyquery)\n",
      "  Downloading cssselect-0.9.1.tar.gz\n",
      "Building wheels for collected packages: BeautifulSoup, seaborn, pyquery, cssselect\n",
      "  Running setup.py bdist_wheel for BeautifulSoup\n",
      "  Stored in directory: C:\\Users\\dyu-pc\\AppData\\Local\\pip\\Cache\\wheels\\0b\\ca\\15\\397d8ca872cdde7f65c19b5cb26a67d14fd7ecdf13741b135a\n",
      "  Running setup.py bdist_wheel for seaborn\n",
      "  Stored in directory: C:\\Users\\dyu-pc\\AppData\\Local\\pip\\Cache\\wheels\\e6\\92\\84\\a33c536c601c0ebd434caee8f8054f26390b32d36824c1e5d4\n",
      "  Running setup.py bdist_wheel for pyquery\n",
      "  Stored in directory: C:\\Users\\dyu-pc\\AppData\\Local\\pip\\Cache\\wheels\\31\\a2\\d9\\1507d953e62680093163139ab6222f1ed408e9290abfa5bd67\n",
      "  Running setup.py bdist_wheel for cssselect\n",
      "  Stored in directory: C:\\Users\\dyu-pc\\AppData\\Local\\pip\\Cache\\wheels\\c6\\0e\\79\\ae69bf7b31029e0f0bc5b8306547f94ec3926b7dbb8452b5ea\n",
      "Successfully built BeautifulSoup seaborn pyquery cssselect\n",
      "Installing collected packages: BeautifulSoup, seaborn, cssselect, pyquery\n",
      "Successfully installed BeautifulSoup-3.2.1 cssselect-0.9.1 pyquery-1.2.9 seaborn-0.6.0\n"
     ]
    }
   ],
   "source": [
    "!pip install BeautifulSoup seaborn pyquery"
   ]
  },
  {
   "cell_type": "code",
   "execution_count": null,
   "metadata": {
    "collapsed": true
   },
   "outputs": [],
   "source": []
  }
 ],
 "metadata": {
  "kernelspec": {
   "display_name": "Python 2",
   "language": "python",
   "name": "python2"
  },
  "language_info": {
   "codemirror_mode": {
    "name": "ipython",
    "version": 2
   },
   "file_extension": ".py",
   "mimetype": "text/x-python",
   "name": "python",
   "nbconvert_exporter": "python",
   "pygments_lexer": "ipython2",
   "version": "2.7.10"
  }
 },
 "nbformat": 4,
 "nbformat_minor": 0
}
